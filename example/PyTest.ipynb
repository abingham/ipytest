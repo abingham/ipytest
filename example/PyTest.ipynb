{
 "cells": [
  {
   "cell_type": "code",
   "execution_count": 1,
   "metadata": {
    "collapsed": true
   },
   "outputs": [],
   "source": [
    "# either set the __file__ attribute or pass filename to run_pytest\n",
    "__file__ = 'PyTest.ipynb'"
   ]
  },
  {
   "cell_type": "code",
   "execution_count": 2,
   "metadata": {
    "collapsed": false
   },
   "outputs": [],
   "source": [
    "import pytest\n",
    "from ipytest import run_pytest, clean_tests"
   ]
  },
  {
   "cell_type": "code",
   "execution_count": 3,
   "metadata": {
    "collapsed": true
   },
   "outputs": [],
   "source": [
    "def my_func(x):\n",
    "    return x // 2 * 2 "
   ]
  },
  {
   "cell_type": "code",
   "execution_count": 4,
   "metadata": {
    "collapsed": false
   },
   "outputs": [
    {
     "name": "stdout",
     "output_type": "stream",
     "text": [
      "============================================================================== test session starts ==============================================================================\n",
      "platform darwin -- Python 3.5.1, pytest-2.9.2, py-1.4.31, pluggy-0.3.1 -- /usr/local/opt/python3/bin/python3.5\n",
      "cachedir: ../.cache\n",
      "rootdir: /Volumes/Home/Code/SideProjects/ipytest, inifile: \n",
      "plugins: catchlog-1.2.2\n",
      "collecting ... collected 6 items\n",
      "\n",
      "PyTest.py::test_my_func <- <ipython-input-4-84e46ff18c82> PASSED\n",
      "PyTest.py::test_parametrized[0-0] <- <ipython-input-4-84e46ff18c82> PASSED\n",
      "PyTest.py::test_parametrized[1-0] <- <ipython-input-4-84e46ff18c82> PASSED\n",
      "PyTest.py::test_parametrized[2-2] <- <ipython-input-4-84e46ff18c82> PASSED\n",
      "PyTest.py::test_parametrized[3-2] <- <ipython-input-4-84e46ff18c82> PASSED\n",
      "PyTest.py::test_fixture <- <ipython-input-4-84e46ff18c82> PASSED\n",
      "\n",
      "=========================================================================== 6 passed in 0.05 seconds ============================================================================\n"
     ]
    },
    {
     "data": {
      "text/plain": [
       "0"
      ]
     },
     "execution_count": 4,
     "metadata": {},
     "output_type": "execute_result"
    }
   ],
   "source": [
    "clean_tests()\n",
    "\n",
    "\n",
    "def test_my_func():\n",
    "    assert my_func(0) == 0\n",
    "    assert my_func(1) == 0\n",
    "    assert my_func(2) == 2\n",
    "    assert my_func(3) == 2\n",
    "    \n",
    "    \n",
    "@pytest.mark.parametrize('input,expected', [\n",
    "    (0, 0),\n",
    "    (1, 0),\n",
    "    (2, 2),\n",
    "    (3, 2),\n",
    "])\n",
    "def test_parametrized(input, expected):\n",
    "    assert my_func(input) == expected\n",
    "    \n",
    "    \n",
    "@pytest.fixture\n",
    "def my_fixture():\n",
    "    return 42\n",
    "    \n",
    "    \n",
    "def test_fixture(my_fixture):\n",
    "    assert my_fixture == 42\n",
    "    \n",
    "\n",
    "run_pytest(pytest_options=['-vvv'])"
   ]
  },
  {
   "cell_type": "code",
   "execution_count": null,
   "metadata": {
    "collapsed": true
   },
   "outputs": [],
   "source": []
  }
 ],
 "metadata": {
  "kernelspec": {
   "display_name": "Python 3",
   "language": "python",
   "name": "python3"
  },
  "language_info": {
   "codemirror_mode": {
    "name": "ipython",
    "version": 3
   },
   "file_extension": ".py",
   "mimetype": "text/x-python",
   "name": "python",
   "nbconvert_exporter": "python",
   "pygments_lexer": "ipython3",
   "version": "3.5.1"
  }
 },
 "nbformat": 4,
 "nbformat_minor": 0
}
